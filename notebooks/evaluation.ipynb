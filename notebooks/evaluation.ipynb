{
 "cells": [
  {
   "cell_type": "code",
   "execution_count": null,
   "metadata": {},
   "outputs": [],
   "source": [
    "import os\n",
    "import random\n",
    "import sys\n",
    "\n",
    "import matplotlib.pyplot as plt\n",
    "import numpy as np\n",
    "import pandas as pd\n",
    "import seaborn as sns\n",
    "\n",
    "sys.path.append(os.path.abspath(\"../\"))"
   ]
  },
  {
   "cell_type": "code",
   "execution_count": null,
   "metadata": {},
   "outputs": [],
   "source": [
    "# --- load data\n",
    "data_dir = \"../data/raw_in/\"\n",
    "file_name = \"Risques/dataset_final_scenario_4.csv\"\n",
    "mapping_name = \"Risques 2/final_mapping_candidat.csv\"\n",
    "\n",
    "df = pd.read_csv(os.path.join(data_dir, file_name), index_col=0)\n",
    "mapping = pd.read_csv(os.path.join(data_dir, mapping_name))"
   ]
  },
  {
   "cell_type": "code",
   "execution_count": null,
   "metadata": {},
   "outputs": [],
   "source": [
    "print(f\"the dataframe consists of {df.shape[0]} entries over {df.shape[1]} series\")\n",
    "print(\"-\" * 55)\n",
    "print(mapping.Type.value_counts())"
   ]
  },
  {
   "cell_type": "code",
   "execution_count": null,
   "metadata": {},
   "outputs": [],
   "source": [
    "#### ADD TO PREPROCESSING FUNCTION\n",
    "# --- identify the different types of series\n",
    "df.columns = [str(typ) + \"_\" + str(col) for col, typ in zip(df.columns, mapping.Type)]"
   ]
  },
  {
   "cell_type": "code",
   "execution_count": null,
   "metadata": {},
   "outputs": [],
   "source": [
    "from utils.utils_preprocessing import *\n",
    "from utils.utils_visualization import *\n",
    "\n",
    "df_full, df_miss = get_evaluation_set(\n",
    "    df.reset_index().drop(\"Date\", axis=1), method=\"linear\"\n",
    ")\n",
    "\n",
    "# plot_data(dataframe=df_full, category=\"STOCK\", show_corr=False)\n",
    "plot_data(dataframe=df_miss, category=\"BOND\", show_corr=False)\n",
    "# plot_data(dataframe=df_pred, category=\"STOCK\", show_corr=False)"
   ]
  },
  {
   "cell_type": "code",
   "execution_count": null,
   "metadata": {},
   "outputs": [],
   "source": [
    "# from utils.utils_correlations import *\n",
    "# --- baseline prediction\n",
    "df_pred_0 = df_miss.interpolate(method=\"linear\", limit=None, limit_direction=\"forward\")\n",
    "# --- correlation-based prediction\n",
    "df_pred_corr = impute_df_with_correlations(\n",
    "    df_miss.set_index(df.index), mixed_truncate_inverse_distance\n",
    ")"
   ]
  },
  {
   "cell_type": "code",
   "execution_count": null,
   "metadata": {},
   "outputs": [],
   "source": [
    "# --- sanity checks\n",
    "print(\"df_full:\\t\", df_full.isna().sum().sum())\n",
    "print(\"df_pred:\\t\", df_pred_0.isna().sum().sum())"
   ]
  },
  {
   "cell_type": "code",
   "execution_count": null,
   "metadata": {},
   "outputs": [],
   "source": [
    "from utils.utils_evaluation import *\n",
    "\n",
    "results_0 = eval_imputation(df_full, df_pred_0, df_miss)\n",
    "results_corr = eval_imputation(\n",
    "    df_full, df_pred_corr.reset_index().drop(\"Date\", axis=1), df_miss\n",
    ")"
   ]
  },
  {
   "cell_type": "code",
   "execution_count": null,
   "metadata": {},
   "outputs": [],
   "source": [
    "# --- correlations evaluation\n",
    "df_results_0 = pd.DataFrame(results_0[0], index=[\"nrmse\", \"nan\"]).transpose()\n",
    "df_results_0[\"type\"] = [s[0] for s in df_results_0.index.str.split(\"_\")]\n",
    "df_results_0[\"method\"] = \"linear\"\n",
    "\n",
    "df_results_corr = pd.DataFrame(results_corr[0], index=[\"nrmse\", \"nan\"]).transpose()\n",
    "df_results_corr[\"type\"] = [s[0] for s in df_results_corr.index.str.split(\"_\")]\n",
    "df_results_corr[\"method\"] = \"correlations\"\n",
    "\n",
    "df_results = pd.concat([df_results_0, df_results_corr], axis=0)"
   ]
  },
  {
   "cell_type": "code",
   "execution_count": null,
   "metadata": {},
   "outputs": [],
   "source": [
    "fig, ax = plt.subplots(1, 1, figsize=(15, 15))\n",
    "ax = sns.boxplot(x=\"type\", y=\"nrmse\", hue=\"method\", data=df_results)\n",
    "# ax.set(yscale='log')\n",
    "\n",
    "ax.set_ylim([0, 5])\n",
    "ax.set_xlabel(\"Series Type\", fontsize=30)\n",
    "ax.set_ylabel(\"NRMSE\", fontsize=30)\n",
    "\n",
    "ax.legend(loc=\"upper left\", fontsize=25)"
   ]
  },
  {
   "cell_type": "code",
   "execution_count": null,
   "metadata": {},
   "outputs": [],
   "source": [
    "# --- xgboost vs correlation-based vs baseline\n",
    "df_miss = pd.read_csv(\"../data/df_miss_07_mean.csv\", index_col=0)\n",
    "df_full = pd.read_csv(\"../data/df_full_07_mean.csv\", index_col=0)\n",
    "\n",
    "from utils.utils_correlations import *\n",
    "# --- xgboost\n",
    "df_pred_xgb = pd.read_csv(\n",
    "    \"../data/xgboost_preds_eval_meanlag-0.7.csv\", index_col=0\n",
    ").interpolate(method=\"linear\", limit=None, limit_direction=\"forward\")\n",
    "# --- correlations\n",
    "df_pred_corr = impute_df_with_correlations(\n",
    "    pd.read_csv(\"../data/df_miss_07_mean.csv\", index_col=0).set_index(\n",
    "        df.index\n",
    "    ),\n",
    "    mixed_truncate_inverse_distance,\n",
    ")\n",
    "# --- baseline\n",
    "df_pred_0 = pd.read_csv(\"../data/df_miss_07_mean.csv\", index_col=0).interpolate(\n",
    "    method=\"linear\", limit=None, limit_direction=\"forward\"\n",
    ")"
   ]
  },
  {
   "cell_type": "code",
   "execution_count": null,
   "metadata": {},
   "outputs": [],
   "source": [
    "# --- sanity checks\n",
    "print(\"df_full:\\t\\t\", df_full.isna().sum().sum())\n",
    "print(\"df_pred (xgb):\\t\\t\", df_pred_xgb.isna().sum().sum())\n",
    "print(\"df_pred (correlations):\\t\", df_pred_corr.isna().sum().sum())\n",
    "print(\"df_pred (baseline):\\t\", df_pred_0.isna().sum().sum())"
   ]
  },
  {
   "cell_type": "code",
   "execution_count": null,
   "metadata": {},
   "outputs": [],
   "source": [
    "from utils.utils_evaluation import *\n",
    "results_xgb = eval_imputation(df_full, df_pred_xgb, df_miss)\n",
    "results_corr = eval_imputation(df_full, df_pred_corr.reset_index().drop('Date', axis=1), df_miss)\n",
    "results_baseline = eval_imputation(df_full, df_pred_0, df_miss)"
   ]
  },
  {
   "cell_type": "code",
   "execution_count": null,
   "metadata": {},
   "outputs": [],
   "source": [
    "df_res=pd.DataFrame()\n",
    "for res,method in zip([results_xgb, results_corr, results_baseline], ['xgboost', 'correlations', 'baseline']):\n",
    "    df_temp = pd.DataFrame(res[0], index=[\"nrmse\", \"nan\"]).transpose()\n",
    "    df_temp[\"type\"] = [s[0] for s in df_temp.index.str.split(\"_\")]\n",
    "    df_temp[\"method\"] = method\n",
    "    \n",
    "    df_res = pd.concat([df_res, df_temp], axis=0)"
   ]
  },
  {
   "cell_type": "code",
   "execution_count": null,
   "metadata": {},
   "outputs": [],
   "source": [
    "fig, ax = plt.subplots(1, 1, figsize=(30, 15))\n",
    "ax = sns.boxplot(x=\"type\", y=\"nrmse\", hue=\"method\", data=df_res)\n",
    "# ax.set(yscale='log')\n",
    "\n",
    "ax.set_ylim([0, 5])\n",
    "ax.set_xlabel(\"Series Type\", fontsize=30)\n",
    "ax.set_xticklabels(ax.get_xmajorticklabels(), fontsize=30)\n",
    "ax.set_ylabel(\"NRMSE\", fontsize=30)\n",
    "\n",
    "ax.legend(loc=\"upper left\", fontsize=25)"
   ]
  }
 ],
 "metadata": {
  "kernelspec": {
   "display_name": "Python 3",
   "language": "python",
   "name": "python3"
  },
  "language_info": {
   "codemirror_mode": {
    "name": "ipython",
    "version": 3
   },
   "file_extension": ".py",
   "mimetype": "text/x-python",
   "name": "python",
   "nbconvert_exporter": "python",
   "pygments_lexer": "ipython3",
   "version": "3.7.9"
  }
 },
 "nbformat": 4,
 "nbformat_minor": 4
}
