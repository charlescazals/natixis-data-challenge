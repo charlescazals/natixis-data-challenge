{
 "cells": [
  {
   "cell_type": "code",
   "execution_count": null,
   "metadata": {},
   "outputs": [],
   "source": [
    "# Import relevant libraries\n",
    "\n",
    "import pandas as pd\n",
    "import numpy as np\n",
    "import os\n",
    "import matplotlib.pyplot as plt\n",
    "from scipy.stats.stats import pearsonr\n",
    "import seaborn as sns; sns.set\n",
    "from scipy import stats\n",
    "from scipy.stats import norm, skew\n",
    "os.chdir('../utils')\n",
    "import utils_correlations\n",
    "import utils_correlation_activations\n",
    "import utils_evaluation\n",
    "import utils_eda"
   ]
  },
  {
   "cell_type": "code",
   "execution_count": null,
   "metadata": {},
   "outputs": [],
   "source": [
    "# Import data \n",
    "\n",
    "data_dir = '../data/raw_in/'\n",
    "file_name = 'Risques/dataset_final_scenario_4.csv'\n",
    "mapping_name = 'Risques 2/final_mapping_candidat.csv'\n",
    "\n",
    "df = pd.read_csv(os.path.join(data_dir, file_name), index_col=0)\n",
    "mapping = pd.read_csv(os.path.join(data_dir, mapping_name))"
   ]
  },
  {
   "cell_type": "code",
   "execution_count": null,
   "metadata": {},
   "outputs": [],
   "source": [
    "print(f'the dataframe consists of {df.shape[0]} entries over {df.shape[1]} series')\n",
    "print('-'*55)\n",
    "print(mapping.Type.value_counts())"
   ]
  },
  {
   "cell_type": "code",
   "execution_count": null,
   "metadata": {},
   "outputs": [],
   "source": [
    "# --- step 1: identify the different types of series\n",
    "df.columns = [str(typ) + '_' + str(col)  for col,typ in zip(df.columns, mapping.Type)]\n",
    "# --- Share prices & Stock indexes\n",
    "df_stock = df.loc[: , df.columns.str.contains('STOCK')]\n",
    "# --- OAT bond (obligation assimilables au trésor) prices\n",
    "df_bond = df.loc[: , df.columns.str.contains('BOND')]\n",
    "# --- Exchange rate\n",
    "df_xchang = df.loc[: , df.columns.str.contains('FXRATE')]\n",
    "# --- Interests rate\n",
    "df_yieldc = df.loc[: , df.columns.str.contains('YIELD_CURVE')]\n",
    "# --- Commodity price\n",
    "df_commod = df.loc[: , df.columns.str.contains('COMMO_CURVE_FO')]\n",
    "# --- CDS Spread\n",
    "df_cdsb = df.loc[: , df.columns.str.contains('CDS_BASKET_ZC')]"
   ]
  },
  {
   "cell_type": "code",
   "execution_count": null,
   "metadata": {},
   "outputs": [],
   "source": [
    "# first glance at our dataset and missing values\n",
    "\n",
    "fig, ax = plt.subplots(figsize=(15,15))\n",
    "sns.heatmap(df_xchang.isnull(), cbar=False, ax=ax)"
   ]
  },
  {
   "cell_type": "code",
   "execution_count": null,
   "metadata": {},
   "outputs": [],
   "source": [
    "#First look at the correlations\n",
    "\n",
    "i = 0\n",
    "df_bondd = df_bond.copy()\n",
    "for x in df_bond.columns:\n",
    "    if i > 10:\n",
    "        df_bondd.drop([x], axis=1, inplace = True)\n",
    "    \n",
    "    i= i +1\n",
    "\n",
    "corr = df_bondd.corr()\n",
    "fig, ax = plt.subplots(figsize=(6,5))\n",
    "ax.set_title('correlation plot for 10 bonds')\n",
    "sns.heatmap(corr,\n",
    "            xticklabels=[x.split('~')[0] for x in corr.columns],\n",
    "            yticklabels=[x.split('~')[0] for x in corr.columns],\n",
    "            ax=ax,\n",
    "            center=0, annot=True)"
   ]
  },
  {
   "cell_type": "code",
   "execution_count": null,
   "metadata": {},
   "outputs": [],
   "source": [
    "#Analyse how the correlation coefficient evolves for two highly correlated series\n",
    "\n",
    "correlations = []\n",
    "i = df.reset_index()['BOND_OAT41J4.5~PRICE'].first_valid_index()\n",
    "while i < len(df['BOND_OAT41J4.5~PRICE'].values) - 10:\n",
    "    rho = df[['BOND_OAT41J4.5~PRICE', 'BOND_OAT4J55~PRICE']][i : i+10].corr()\n",
    "    correlations.append(rho.iloc[0, 1])\n",
    "    i = i + 10\n",
    "\n",
    "plt.title('Evolution of correlation coefficient through time')\n",
    "plt.plot(correlations, 'r') # plotting t, a separately \n",
    "plt.ylabel('coef')\n",
    "plt.xlabel('10 day windows')\n",
    "plt.show()"
   ]
  },
  {
   "cell_type": "code",
   "execution_count": null,
   "metadata": {},
   "outputs": [],
   "source": [
    "t = df.index\n",
    "a = df['BOND_OAT41J4.5~PRICE'].values\n",
    "b = df['BOND_OAT4J55~PRICE'].values\n",
    "\n",
    "plt.title('Behaviour of two correlated bonds')\n",
    "\n",
    "plt.plot( a, 'r') # plotting t, a separately \n",
    "plt.plot( b, 'b') # plotting t, b separately \n",
    "plt.legend(('BOND_OAT41J4.5~PRICE','BOND_OAT4J55~PRICE'))\n",
    "plt.ylabel('Price')\n",
    "plt.xlabel('time')\n",
    "plt.show()"
   ]
  },
  {
   "cell_type": "markdown",
   "metadata": {},
   "source": [
    "Study of the data set"
   ]
  },
  {
   "cell_type": "code",
   "execution_count": null,
   "metadata": {},
   "outputs": [],
   "source": [
    "study_dataset(df_stock)\n",
    "study_dataset(df_bond)\n",
    "study_dataset(df_xchang)\n",
    "study_dataset(df_yieldc)\n",
    "study_dataset(df_commod)\n",
    "study_dataset(df_cdsb)\n",
    "study_dataset(df)"
   ]
  },
  {
   "cell_type": "code",
   "execution_count": null,
   "metadata": {},
   "outputs": [],
   "source": [
    "study_dataset_crop(df_stock)\n",
    "study_dataset_crop(df_bond)\n",
    "study_dataset_crop(df_xchang)\n",
    "study_dataset_crop(df_yieldc)\n",
    "study_dataset_crop(df_commod)\n",
    "study_dataset_crop(df_cdsb)"
   ]
  },
  {
   "cell_type": "code",
   "execution_count": null,
   "metadata": {},
   "outputs": [],
   "source": [
    "missing_values(df_stock)\n",
    "missing_values(df_bond)\n",
    "missing_values(df_xchang)\n",
    "missing_values(df_yieldc)\n",
    "missing_values(df_commod)\n",
    "missing_values(df_cdsb)\n",
    "missing_values(df)"
   ]
  },
  {
   "cell_type": "code",
   "execution_count": null,
   "metadata": {},
   "outputs": [],
   "source": [
    "missing_values_crop(df_stock)\n",
    "missing_values_crop(df_bond)\n",
    "missing_values_crop(df_xchang)\n",
    "missing_values_crop(df_yieldc)\n",
    "missing_values_crop(df_commod)\n",
    "missing_values_crop(df_cdsb)"
   ]
  }
 ],
 "metadata": {
  "kernelspec": {
   "display_name": "Python 3",
   "language": "python",
   "name": "python3"
  },
  "language_info": {
   "codemirror_mode": {
    "name": "ipython",
    "version": 3
   },
   "file_extension": ".py",
   "mimetype": "text/x-python",
   "name": "python",
   "nbconvert_exporter": "python",
   "pygments_lexer": "ipython3",
   "version": "3.7.9"
  }
 },
 "nbformat": 4,
 "nbformat_minor": 4
}
